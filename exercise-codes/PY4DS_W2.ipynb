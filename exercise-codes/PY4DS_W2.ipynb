{
 "metadata": {
  "language_info": {
   "codemirror_mode": {
    "name": "ipython",
    "version": 3
   },
   "file_extension": ".py",
   "mimetype": "text/x-python",
   "name": "python",
   "nbconvert_exporter": "python",
   "pygments_lexer": "ipython3",
   "version": "3.8.8"
  },
  "orig_nbformat": 2,
  "kernelspec": {
   "name": "python388jvsc74a57bd09817b759d79a777d68923e0cdc92d85081ac2cb7509e30ae3f40742f155bd5b9",
   "display_name": "Python 3.8.8 64-bit ('my_env': conda)"
  }
 },
 "nbformat": 4,
 "nbformat_minor": 2,
 "cells": [
  {
   "source": [
    "# Python Data Structure\n",
    "## Python မှာ build in data structure 4 မျိုးရှိသည်\n",
    "### List\n",
    "### Tuple\n",
    "### Set \n",
    "### Dictionary"
   ],
   "cell_type": "markdown",
   "metadata": {}
  },
  {
   "cell_type": "code",
   "execution_count": null,
   "metadata": {},
   "outputs": [],
   "source": [
    "# List သည်ပြုပြင်ပြောင်းလဲနိုင်သည် (mutable)\n",
    "# List သည် order ဖြစ်သည်\n",
    "# List တည်ဆောက်ရာတွင် [] ကိုအသုံးပြုသည်\n",
    "my_list = ['Ako', 20, 2.3, True]\n",
    "print(my_list)"
   ]
  },
  {
   "cell_type": "code",
   "execution_count": null,
   "metadata": {},
   "outputs": [],
   "source": [
    "# [] တွင်သက်ဆိုင်ရာ index ထည့်ခြင်းဖြင့် List တွင်ပါသော သက်ဆိုင်ရာ data များကို ဆွဲထုတ်နိုင်သည်\n",
    "print(my_list[3])"
   ]
  },
  {
   "source": [
    "### Useful List methods"
   ],
   "cell_type": "markdown",
   "metadata": {}
  },
  {
   "cell_type": "code",
   "execution_count": null,
   "metadata": {},
   "outputs": [],
   "source": [
    "# add another data\n",
    "subjects = ['Myanmar', 'English', 'Mathematic', 'Computer Science']\n",
    "subjects.append('Physics')\n",
    "print(subjects)"
   ]
  },
  {
   "cell_type": "code",
   "execution_count": null,
   "metadata": {},
   "outputs": [],
   "source": [
    "# substitude last one \n",
    "subjects[-1] = 'Chemistry'\n",
    "print(subjects) "
   ]
  },
  {
   "cell_type": "code",
   "execution_count": null,
   "metadata": {},
   "outputs": [],
   "source": [
    "# remove \n",
    "subjects.remove('Myanmar')\n",
    "print(subjects)"
   ]
  },
  {
   "cell_type": "code",
   "execution_count": null,
   "metadata": {},
   "outputs": [],
   "source": [
    "# pop\n",
    "# ['Myanmar', 'English', 'Mathematic', 'Computer Science', 'Physics'] index no 3 is CS\n",
    "a = subjects.pop(3) #it needs index number\n",
    "print('After using pop\\n', a)\n",
    "print(subjects)"
   ]
  },
  {
   "cell_type": "code",
   "execution_count": null,
   "metadata": {},
   "outputs": [],
   "source": [
    "# using del keyword\n",
    "del subjects[3]\n",
    "print(subjects)"
   ]
  },
  {
   "cell_type": "code",
   "execution_count": null,
   "metadata": {},
   "outputs": [],
   "source": [
    "# finding max\n",
    "num_list = [324, 231, 134, 531, 438]\n",
    "str_list = ['koko', 'maung', 'mama']\n",
    "print(max(str_list))\n",
    "print(max(num_list))"
   ]
  },
  {
   "cell_type": "code",
   "execution_count": null,
   "metadata": {},
   "outputs": [],
   "source": [
    "# finding min \n",
    "print(min(num_list))"
   ]
  },
  {
   "cell_type": "code",
   "execution_count": null,
   "metadata": {},
   "outputs": [],
   "source": [
    "# reverse list \n",
    "num_list.reverse()\n",
    "print(num_list)"
   ]
  },
  {
   "cell_type": "code",
   "execution_count": null,
   "metadata": {},
   "outputs": [],
   "source": [
    "# finding index \n",
    "my_index = num_list.index(438)\n",
    "print(my_index)"
   ]
  },
  {
   "cell_type": "code",
   "execution_count": null,
   "metadata": {},
   "outputs": [],
   "source": [
    "# using sum\n",
    "addition = sum(num_list)\n",
    "print(addition)"
   ]
  },
  {
   "cell_type": "code",
   "execution_count": null,
   "metadata": {},
   "outputs": [],
   "source": [
    "# using sort\n",
    "num_list.sort()\n",
    "print(num_list)"
   ]
  },
  {
   "cell_type": "code",
   "execution_count": null,
   "metadata": {},
   "outputs": [],
   "source": [
    "# sort descending order\n",
    "num_list.sort(reverse=True)\n",
    "print(num_list)"
   ]
  },
  {
   "source": [],
   "cell_type": "markdown",
   "metadata": {}
  },
  {
   "cell_type": "code",
   "execution_count": null,
   "metadata": {},
   "outputs": [],
   "source": [
    "# Tuple သည်ပြုပြင်ပြောင်းလဲ၍မရ (immutable)\n",
    "# Tuple သည် order ဖြစ်သည်\n",
    "# Tuple တည်ဆောက်ရာတွင် () ကိုအသုံးပြုသည်\n",
    "my_tuple = ('MgMg', 23, 0.32, False)\n",
    "print(my_tuple)"
   ]
  },
  {
   "cell_type": "code",
   "execution_count": null,
   "metadata": {},
   "outputs": [],
   "source": [
    "# sorted function\n",
    "rating = ('koko', 'maung')\n",
    "rating = sorted(rating )\n",
    "print(rating)"
   ]
  },
  {
   "cell_type": "code",
   "execution_count": null,
   "metadata": {},
   "outputs": [],
   "source": [
    "# nested tuple \n",
    "nested = (1, 2, ('pop','rock'), [5,6,7]) \n",
    "#         0  1         2           3\n",
    "\n",
    "# [] တွင်သက်ဆိုင်ရာ index ထည့်ခြင်းဖြင့် Tuple တွင်ပါသော သက်ဆိုင်ရာ data များကို ဆွဲထုတ်နိုင်သည်\n",
    "nested[3].append(2)\n",
    "print(nested)"
   ]
  },
  {
   "source": [],
   "cell_type": "markdown",
   "metadata": {}
  },
  {
   "cell_type": "code",
   "execution_count": null,
   "metadata": {},
   "outputs": [],
   "source": [
    "# Set သည်ပြုပြင်ပြောင်းလဲနိုင်သည် (mutable)\n",
    "# Set သည် unorder ဖြစ်သည်\n",
    "# Set တည်ဆောက်ရာတွင် {} ကိုအသုံးပြုသည်\n",
    "# Set တွင်ပါ၀င်သော data များသည် unique ဖြစ်သည်\n",
    "my_set = {'koko', 'koko', 2, 2, False, False, False, 2.3, 2.3, 2.3, 2.3}\n",
    "print(my_set)"
   ]
  },
  {
   "cell_type": "code",
   "execution_count": null,
   "metadata": {},
   "outputs": [],
   "source": [
    "# add \n",
    "my_set.add('newyork')\n",
    "print(my_set)"
   ]
  },
  {
   "cell_type": "code",
   "execution_count": null,
   "metadata": {},
   "outputs": [],
   "source": [
    "# remove\n",
    "my_set.remove('newyork')\n",
    "print(my_set)"
   ]
  },
  {
   "cell_type": "code",
   "execution_count": null,
   "metadata": {},
   "outputs": [],
   "source": [
    "# check set \n",
    "school1 = {'koko', 'mgmg', 'agag', 'ayeaye'}\n",
    "school2 = {'koko', 'myamya', 'susu'}\n",
    "print('koko' in school1)"
   ]
  },
  {
   "cell_type": "code",
   "execution_count": null,
   "metadata": {},
   "outputs": [],
   "source": [
    "school1 = {'koko', 'mgmg', 'agag', 'ayeaye'}\n",
    "school2 = {'koko', 'myamya', 'susu'}\n",
    "school3 = {'koko', 'mgmg'}\n",
    "\n",
    "# interset\n",
    "intersetion = school1 & school2\n",
    "print(intersetion)"
   ]
  },
  {
   "cell_type": "code",
   "execution_count": null,
   "metadata": {},
   "outputs": [],
   "source": [
    "# union \n",
    "uni = school1.union(school2)\n",
    "print(uni)"
   ]
  },
  {
   "cell_type": "code",
   "execution_count": null,
   "metadata": {},
   "outputs": [],
   "source": [
    "# check is superset\n",
    "is_set = school1.issuperset(school3)\n",
    "print(is_set)"
   ]
  },
  {
   "source": [
    "### Type Casting and Unpacking"
   ],
   "cell_type": "markdown",
   "metadata": {}
  },
  {
   "cell_type": "code",
   "execution_count": null,
   "metadata": {},
   "outputs": [],
   "source": [
    "list_to_tuple = tuple([1, 2, 3, 4, 5])\n",
    "tuple_to_list = list((1, 2, 3, 4, 5))\n",
    "list_to_set = set([1, 2, 3, 4, 5, 3, 2, 1])\n",
    "set_to_list = list({1, 2, 3, 4, 5})\n",
    "set_to_tuple = tuple({2, 3, 1, 5, 4, 5, 3})\n",
    "\n",
    "print(list_to_tuple)\n",
    "print(tuple_to_list)\n",
    "print(list_to_set)\n",
    "print(set_to_list)\n",
    "print(set_to_tuple)"
   ]
  },
  {
   "cell_type": "code",
   "execution_count": null,
   "metadata": {},
   "outputs": [],
   "source": [
    "# unpacking\n",
    "a, b, c = [10, 20, 30]\n",
    "(x, y, z) = [100, 200, 300]\n",
    "p, *q, r = 'htunkhainglynn'\n",
    "l, *m, (n, *o, s) = [10, 20, 30, 'htunkhainglynn']\n",
    "\n",
    "print(a, b, c)\n",
    "print(x, y, z)\n",
    "print(p, q, r)\n",
    "print(l, m, n, o, s)"
   ]
  },
  {
   "source": [],
   "cell_type": "markdown",
   "metadata": {}
  },
  {
   "cell_type": "code",
   "execution_count": null,
   "metadata": {},
   "outputs": [],
   "source": [
    "# Dictionary သည် order ဖြစ်သည်\n",
    "# Dictionary တည်ဆောက်ရာတွင် {'key' : value} ကိုအသုံးပြုသည်\n",
    "# keys (immutable), values(mutable)\n",
    "student = {\n",
    "    'name': 'Ko Ko',\n",
    "    'age': 19,\n",
    "    'is_boy': True,\n",
    "    'hobbies' : ['coding', 'guitar']\n",
    "}\n",
    "\n",
    "# print dictionary \n",
    "print(student)\n",
    "print(student.keys())\n",
    "print(student.values())\n",
    "print(student['name']) # or\n",
    "print(student.get('name'))\n",
    "\n",
    "# change values \n",
    "student['name'] = 'MaMa'\n",
    "print(f'student after update = {student}')\n",
    "\n",
    "a = {'name':[0, 1, 2, 3, 4]}\n",
    "print(a['name'][3])\n"
   ]
  }
 ]
}