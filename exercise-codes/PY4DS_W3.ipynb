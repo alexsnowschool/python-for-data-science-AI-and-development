{
 "metadata": {
  "language_info": {
   "codemirror_mode": {
    "name": "ipython",
    "version": 3
   },
   "file_extension": ".py",
   "mimetype": "text/x-python",
   "name": "python",
   "nbconvert_exporter": "python",
   "pygments_lexer": "ipython3",
   "version": "3.8.8"
  },
  "orig_nbformat": 2,
  "kernelspec": {
   "name": "python388jvsc74a57bd09817b759d79a777d68923e0cdc92d85081ac2cb7509e30ae3f40742f155bd5b9",
   "display_name": "Python 3.8.8 64-bit ('my_env': conda)"
  }
 },
 "nbformat": 4,
 "nbformat_minor": 2,
 "cells": [
  {
   "cell_type": "code",
   "execution_count": null,
   "metadata": {},
   "outputs": [],
   "source": [
    "# condition if True: ဆိုရင် အောက်ကဟာဆက်လုပ် false ဆို မလုပ်\n",
    "is_older = False\n",
    "is_younger = True\n",
    "same = True\n",
    "\n",
    "if is_older: # True work, false not\n",
    "    print('He is KoKo')\n",
    "elif is_younger:\n",
    "    print('He is Nyi Lay')\n",
    "elif same:\n",
    "    print('He is your friend')\n",
    "else:\n",
    "    print('koko')\n",
    "\n",
    "print('12')"
   ]
  },
  {
   "cell_type": "code",
   "execution_count": null,
   "metadata": {},
   "outputs": [],
   "source": [
    "# logical operators များနဲ့တွဲပြီးသုံးလို့ရ\n",
    "do_assignment = True\n",
    "do_homework = True               \n",
    "absence = False\n",
    "\n",
    "if do_assignment and do_homework and absence:\n",
    "    print('Good')\n",
    "elif do_assignment or do_homework or absence:\n",
    "    print('Normal')\n",
    "else:\n",
    "    print('Bad')"
   ]
  },
  {
   "cell_type": "code",
   "execution_count": null,
   "metadata": {},
   "outputs": [],
   "source": [
    "a = 10\n",
    "b = 5\n",
    "if a == b:\n",
    "    print('They are same')\n",
    "else: \n",
    "    print('They are not same')\n",
    "\n",
    "my_age = 19\n",
    "my_fri = 18\n",
    "\n",
    "if my_age > my_fri:\n",
    "    print('I am older')\n",
    "elif my_age == my_fri:\n",
    "    print('We are same')\n",
    "else:\n",
    "    print('I am younger')\n",
    "\n",
    "mark = 80\n",
    "\n",
    "\n",
    "if mark >= 80:\n",
    "    print('Good')\n",
    "elif mark >= 60:\n",
    "    print('Normal')\n",
    "else:\n",
    "    print('Bad')"
   ]
  },
  {
   "source": [
    "## Loops"
   ],
   "cell_type": "markdown",
   "metadata": {}
  },
  {
   "cell_type": "code",
   "execution_count": null,
   "metadata": {},
   "outputs": [],
   "source": [
    "# အကြိမ်အရေအတွက်ကို မသိရင် ဒါမဟုတ် condition တစ်ခုအပေါ်အခြေခံပြီး loop ပတ်ချင်ရင် ကိုသုံး\n",
    "color = ['orange', 'orange', 'red', 'orange', 'blue']\n",
    "new_fruit = []\n",
    "i = 0\n",
    "while color[i] == 'orange':\n",
    "    new_fruit.append(color[i])\n",
    "    i += 1\n",
    "print(new_fruit)"
   ]
  },
  {
   "cell_type": "code",
   "execution_count": null,
   "metadata": {},
   "outputs": [],
   "source": [
    "condition ကမှန်ရင် break တွေ့ရင် ရပ် continue တွေ့ရင် ကျော်ပြီးဆက်လုပ်\n",
    "i = 0\n",
    "while i <= 5:\n",
    "    print(i)\n",
    "    i += 1\n",
    "\n",
    "print('Done')\n",
    "\n",
    "i = 0\n",
    "while i <= 10:\n",
    "    if i == 5:\n",
    "        break\n",
    "    print(i)\n",
    "    i += 1\n",
    "print('Done')\n",
    "\n",
    "i = 0\n",
    "while i < 5:\n",
    "  i += 1\n",
    "  if i == 3:\n",
    "    continue\n",
    "  print(i)"
   ]
  },
  {
   "cell_type": "code",
   "execution_count": null,
   "metadata": {},
   "outputs": [],
   "source": [
    "# while loop program \n",
    "my_list = []\n",
    "\n",
    "while True:\n",
    "    my_input = input('Enter Something : ')\n",
    "    if my_input == 'done':\n",
    "        break\n",
    "    else:\n",
    "        my_list.append(my_input)\n",
    "print(my_list)"
   ]
  },
  {
   "cell_type": "code",
   "execution_count": null,
   "metadata": {},
   "outputs": [],
   "source": [
    "# အကြိမ်အရေအတွက်ကို အတိအကျသိရင် ဘယ်က စပြီးဘယ်မာဆုံးမယ်သိရင် for loop သုံး\n",
    "for i in range(9):\n",
    "    print(i)"
   ]
  },
  {
   "cell_type": "code",
   "execution_count": null,
   "metadata": {},
   "outputs": [],
   "source": [
    "for i in range(10):\n",
    "    if i == 5:\n",
    "        break\n",
    "    print(i)"
   ]
  },
  {
   "cell_type": "code",
   "execution_count": null,
   "metadata": {},
   "outputs": [],
   "source": [
    "for i in range(10):\n",
    "    if i == 5:\n",
    "        continue\n",
    "    print(i)"
   ]
  },
  {
   "cell_type": "code",
   "execution_count": null,
   "metadata": {},
   "outputs": [],
   "source": [
    "name = 'Htun Khaing Lynn'\n",
    "for i in name:\n",
    "    print(i)"
   ]
  },
  {
   "cell_type": "code",
   "execution_count": null,
   "metadata": {},
   "outputs": [],
   "source": [
    "for i in range(0, 10, 2): # start stop step, step default = 1\n",
    "    print(i)"
   ]
  },
  {
   "cell_type": "code",
   "execution_count": null,
   "metadata": {},
   "outputs": [],
   "source": [
    "number = ['a', 'b', 'c', 'd', 'e']\n",
    "for a, b in enumerate(number):\n",
    "    print(a, b)"
   ]
  },
  {
   "cell_type": "code",
   "execution_count": null,
   "metadata": {},
   "outputs": [],
   "source": [
    "id = [101, 102, 103, 104]\n",
    "subject = ['CS', 'Maths', 'OS', 'Programming']\n",
    "number = 'kokohtun'\n",
    "\n",
    "for a,b,c in zip(id, subject, number):\n",
    "    print(a, b, c)"
   ]
  },
  {
   "cell_type": "code",
   "execution_count": null,
   "metadata": {},
   "outputs": [],
   "source": [
    "student = {\n",
    "    'name': 'Ko Ko',\n",
    "    'age': 19,\n",
    "    'is_boy': True,\n",
    "    'hobbies' : ['coding', 'guitar']\n",
    "}\n",
    "\n",
    "for i in student:\n",
    "    print(student[i])"
   ]
  },
  {
   "source": [
    "## Function"
   ],
   "cell_type": "markdown",
   "metadata": {}
  },
  {
   "cell_type": "code",
   "execution_count": null,
   "metadata": {},
   "outputs": [],
   "source": [
    "# use def to define a function\n",
    "def my_func():\n",
    "    print('Hello World')\n",
    "\n",
    "\n",
    "print('Start')\n",
    "my_func()\n",
    "print('End')"
   ]
  },
  {
   "cell_type": "code",
   "execution_count": null,
   "metadata": {},
   "outputs": [],
   "source": [
    "# pass \n",
    "def NoWork():\n",
    "    pass\n",
    "\n",
    "print(NoWork())"
   ]
  },
  {
   "cell_type": "code",
   "execution_count": null,
   "metadata": {},
   "outputs": [],
   "source": [
    "def greet(name):\n",
    "    print(f'Hello {name}')\n",
    "\n",
    "greet('KoKo')"
   ]
  },
  {
   "cell_type": "code",
   "execution_count": null,
   "metadata": {},
   "outputs": [],
   "source": [
    "def add(no1, no2):\n",
    "    result = no1 + no2\n",
    "    print('Result = ', result)\n",
    "\n",
    "\n",
    "num1 = input('Enter number 1: ')\n",
    "num2 = input('Enter number 2: ')\n",
    "\n",
    "# type casting\n",
    "num1 = int(num1)\n",
    "num2 = int(num2)\n",
    "\n",
    "add(num1, num2)"
   ]
  },
  {
   "cell_type": "code",
   "execution_count": null,
   "metadata": {},
   "outputs": [],
   "source": [
    "# return \n",
    "def test(name):\n",
    "    greet = 'Hello ' + name\n",
    "    return greet\n",
    "\n",
    "\n",
    "z = test('Ko Ko')\n",
    "print(z)"
   ]
  },
  {
   "cell_type": "code",
   "execution_count": null,
   "metadata": {},
   "outputs": [],
   "source": [
    "def cal(no1, no2):\n",
    "    add = no1 + no2\n",
    "    mul = no1 * no2\n",
    "    return add, mul\n",
    "\n",
    "\n",
    "num1 = input('Enter number 1: ')\n",
    "num2 = input('Enter number 2: ')\n",
    "\n",
    "# type casting\n",
    "num1 = int(num1)\n",
    "num2 = int(num2)\n",
    "\n",
    "a, b = cal(num1, num2)\n",
    "print(f'sum is {a},mul is {b}')"
   ]
  },
  {
   "cell_type": "code",
   "execution_count": null,
   "metadata": {},
   "outputs": [],
   "source": [
    "def print_stuff(stuff):\n",
    "    for i,s in enumerate(stuff):\n",
    "        print(f'Album : {i}, Rating : {s}')\n",
    "\n",
    "album_rating = [10, 20, 30, 40]\n",
    "print_stuff(album_rating)"
   ]
  },
  {
   "cell_type": "code",
   "execution_count": null,
   "metadata": {},
   "outputs": [],
   "source": [
    "# scope \n",
    "def something():\n",
    "    print('Hello', name)\n",
    "    # print('Age', age)\n",
    "    # global age\n",
    "    age = 20\n",
    "\n",
    "name = 'AkoHtun'\n",
    "something()\n",
    "print(age)"
   ]
  },
  {
   "source": [
    "### Arguments\n",
    "#### positional arguments.\n",
    "#### arbitrary arguments (end of positional argument).\n",
    "#### keyword arguments.\n",
    "#### arbitrary keyword arguments.\n",
    "#### arbitrary >> keyword >> arbitrary keyword"
   ],
   "cell_type": "markdown",
   "metadata": {}
  },
  {
   "cell_type": "code",
   "execution_count": null,
   "metadata": {},
   "outputs": [],
   "source": [
    "def arb(*args):\n",
    "    print(args) # set\n",
    "\n",
    "arb('KoKo', 19, 5.8, 'Computer')"
   ]
  },
  {
   "cell_type": "code",
   "execution_count": null,
   "metadata": {},
   "outputs": [],
   "source": [
    "def keyword_args(name, age, *hobby, id):\n",
    "    print(f'name : {name}, age : {age}, hobbies : {hobby}, id : {id}')\n",
    "\n",
    "keyword_args('AkoHtun', 20, 'Sleep', 'Eat', 'Guitar', id = 7777) "
   ]
  },
  {
   "cell_type": "code",
   "execution_count": null,
   "metadata": {},
   "outputs": [],
   "source": [
    "def arb_keyword_args(name, age, *hobby, id, **kwargs):\n",
    "    print(f'name : {name}, age : {age}, hobbies : {hobby}, id : {id}, others : {kwargs}')\n",
    "\n",
    "arb_keyword_args('KoKhaing', 20, 'Sleep', 'Eat', 'Play', id = 7777, graduate = False, height = 173)"
   ]
  },
  {
   "source": [
    "## Class and Object"
   ],
   "cell_type": "markdown",
   "metadata": {}
  },
  {
   "cell_type": "code",
   "execution_count": null,
   "metadata": {},
   "outputs": [],
   "source": [
    "import matplotlib.pyplot as plt \n",
    "\n",
    "class Circle():\n",
    "\n",
    "    # Constructor \n",
    "    def __init__(self, radius, color):\n",
    "        self.radius = radius\n",
    "        self.color = color\n",
    "\n",
    "    def add_radius(self, size):\n",
    "        new_radius = size + self.radius\n",
    "        print(new_radius)\n",
    "\n",
    "    # Method\n",
    "    def draw_circle(self):\n",
    "        plt.gca().add_patch(plt.Circle((0, 0), radius=self.radius, fc=self.color))\n",
    "        plt.axis('scaled')\n",
    "        plt.show()  \n",
    "\n",
    "class Rectangle(object):\n",
    "    \n",
    "    # Constructor\n",
    "    def __init__(self, width=2, height=3, color='r'): # default argument\n",
    "        self.height = height \n",
    "        self.width = width\n",
    "        self.color = color\n",
    "    \n",
    "    # Method\n",
    "    def drawRectangle(self):\n",
    "        plt.gca().add_patch(plt.Rectangle((0, 0), self.width, self.height ,fc=self.color))\n",
    "        plt.axis('scaled')\n",
    "        plt.show()\n",
    "\n",
    "circle = Circle(0.4, 'red')\n",
    "print(circle.radius)\n",
    "circle.add_radius(5)\n",
    "circle.draw_circle()\n",
    "\n",
    "rectangle = Rectangle()\n",
    "rectangle.drawRectangle()"
   ]
  },
  {
   "cell_type": "code",
   "execution_count": null,
   "metadata": {},
   "outputs": [],
   "source": []
  }
 ]
}